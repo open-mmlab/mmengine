{
 "cells": [
  {
   "cell_type": "markdown",
   "metadata": {},
   "source": [
    "# 优化器封装（OptimWrapper）\n",
    "\n",
    "MMEngine 实现了优化器封装，为用户提供了统一的优化器访问接口。优化器封装支持不同的训练策略，包括混合精度训练、梯度累加和梯度截断。用户可以根据需求选择合适的训练策略。优化器封装还定义了一套标准的参数更新流程，用户可以基于这一套流程，实现同一套代码，不同训练策略的切换。\n",
    "\n",
    "## 优化器封装 vs 优化器\n",
    "\n",
    "这里我们分别基于 Pytorch 内置的优化器和 MMEngine 的优化器封装进行单精度训练、混合精度训练和梯度累加，对比二者实现上的区别。\n",
    "\n",
    "### 训练模型\n",
    "\n",
    "**1.1 基于 Pytorch 的 SGD 优化器实现单精度训练**"
   ]
  },
  {
   "cell_type": "code",
   "execution_count": 3,
   "metadata": {},
   "outputs": [],
   "source": [
    "import torch\n",
    "from torch.optim import SGD\n",
    "import torch.nn as nn\n",
    "import torch.nn.functional as F\n",
    "\n",
    "inputs = [torch.zeros(10, 1, 1)] * 10\n",
    "targets = [torch.ones(10, 1, 1)] * 10\n",
    "model = nn.Linear(1, 1)\n",
    "optimizer = SGD(model.parameters(), lr=0.01)\n",
    "optimizer.zero_grad()\n",
    "\n",
    "for input, target in zip(inputs, targets):\n",
    "    output = model(input)\n",
    "    loss = F.l1_loss(output, target)\n",
    "    loss.backward()\n",
    "    optimizer.step()\n",
    "    optimizer.zero_grad()"
   ]
  },
  {
   "cell_type": "markdown",
   "metadata": {},
   "source": [
    "**1.2 使用 MMEngine 的优化器封装实现单精度训练**"
   ]
  },
  {
   "cell_type": "code",
   "execution_count": 5,
   "metadata": {},
   "outputs": [],
   "source": [
    "from mmengine.optim import OptimWrapper\n",
    "\n",
    "\n",
    "optim_wapper = OptimWrapper(optimizer=optimizer)\n",
    "\n",
    "for input, target in zip(inputs, targets):\n",
    "    output = model(input)\n",
    "    loss = F.l1_loss(output, target)\n",
    "    optim_wapper.update_params(loss)"
   ]
  },
  {
   "cell_type": "markdown",
   "metadata": {},
   "source": [
    "![image](https://user-images.githubusercontent.com/57566630/185605436-17f08083-b219-4b38-b714-eb891f7a8e56.png)\n"
   ]
  },
  {
   "cell_type": "markdown",
   "metadata": {},
   "source": [
    "优化器封装的 `update_params` 实现了标准的梯度计算、参数更新和梯度清零流程，可以直接用来更新模型参数。"
   ]
  },
  {
   "cell_type": "markdown",
   "metadata": {},
   "source": [
    "**2.1 基于 Pytorch 的 SGD 优化器实现混合精度训练**"
   ]
  },
  {
   "cell_type": "code",
   "execution_count": 7,
   "metadata": {},
   "outputs": [],
   "source": [
    "from torch.cuda.amp import autocast\n",
    "\n",
    "model = model.cuda()\n",
    "inputs = [torch.zeros(10, 1, 1, 1)] * 10\n",
    "targets = [torch.ones(10, 1, 1, 1)] * 10\n",
    "\n",
    "for input, target in zip(inputs, targets):\n",
    "    with autocast():\n",
    "        output = model(input.cuda())\n",
    "    loss = F.l1_loss(output, target.cuda())\n",
    "    loss.backward()\n",
    "    optimizer.step()\n",
    "    optimizer.zero_grad()"
   ]
  },
  {
   "cell_type": "markdown",
   "metadata": {},
   "source": [
    "\n",
    "**2.2 基于 MMEngine 的 优化器封装实现混合精度训练**"
   ]
  },
  {
   "cell_type": "code",
   "execution_count": 9,
   "metadata": {},
   "outputs": [],
   "source": [
    "from mmengine.optim import AmpOptimWrapper\n",
    "\n",
    "optim_wapper = AmpOptimWrapper(optimizer=optimizer)\n",
    "\n",
    "for input, target in zip(inputs, targets):\n",
    "    with optim_wapper.optim_context(model):\n",
    "        output = model(input.cuda())\n",
    "    loss = F.l1_loss(output, target.cuda())\n",
    "    optim_wapper.update_params(loss)"
   ]
  },
  {
   "cell_type": "markdown",
   "metadata": {},
   "source": [
    "![image](https://user-images.githubusercontent.com/57566630/185606060-2fdebd90-c17a-4a8c-aaf1-540d47975c59.png)"
   ]
  },
  {
   "cell_type": "markdown",
   "metadata": {},
   "source": [
    "开合混合精度训练需要使用 `AmpOptimWrapper`，他的 optim_context 接口类似 `autocast`，会开启混合精度训练的上下文。除此之外他还能加速分布式训练时的梯度累加，这个我们会在下一个示例中介绍"
   ]
  },
  {
   "cell_type": "markdown",
   "metadata": {},
   "source": [
    "**3.1 基于 Pytorch 的 SGD 优化器实现混合精度训练和梯度累加**"
   ]
  },
  {
   "cell_type": "code",
   "execution_count": 12,
   "metadata": {},
   "outputs": [],
   "source": [
    "for idx, (input, target) in enumerate(zip(inputs, targets)):\n",
    "    with autocast():\n",
    "        output = model(input.cuda())\n",
    "    loss = F.l1_loss(output, target.cuda())\n",
    "    loss.backward()\n",
    "    if idx % 2 == 0:\n",
    "        optimizer.step()\n",
    "        optimizer.zero_grad()"
   ]
  },
  {
   "cell_type": "markdown",
   "metadata": {},
   "source": [
    "**3.2 基于 MMEngine 的优化器封装实现混合精度训练和梯度累加**"
   ]
  },
  {
   "cell_type": "code",
   "execution_count": 14,
   "metadata": {},
   "outputs": [],
   "source": [
    "optim_wapper = AmpOptimWrapper(optimizer=optimizer, accumulative_counts=2)\n",
    "\n",
    "for input, target in zip(inputs, targets):\n",
    "    with optim_wapper.optim_context(model):\n",
    "        output = model(input.cuda())\n",
    "    loss = F.l1_loss(output, target.cuda())\n",
    "    optim_wapper.update_params(loss)"
   ]
  },
  {
   "cell_type": "markdown",
   "metadata": {},
   "source": [
    "![image](https://user-images.githubusercontent.com/57566630/185608932-91a082d4-1bf4-4329-b283-98fbbc20b5f7.png)"
   ]
  },
  {
   "cell_type": "markdown",
   "metadata": {},
   "source": [
    "我们只需要配置 `accumulative_counts` 参数，并调用 `update_params` 接口就能实现梯度累加的功能。除此之外，分布式训练情况下，如果我们配置梯度累加的同时开启了 `optim_wrapper` 上下文，可以避免梯度累加阶段不必要的梯度同步。"
   ]
  },
  {
   "cell_type": "markdown",
   "metadata": {},
   "source": [
    "优化器封装同样提供了更细粒度的接口，方便用户实现一些自定义的参数更新逻辑：\n",
    "\n",
    "- `backward`：传入损失，用于计算参数梯度，。\n",
    "- `step`： 同 `optimizer.step`，用于更新参数。\n",
    "- `zero_grad`： 同 `optimizer.zero_grad`，用于参数的梯度。\n",
    "\n",
    "我们可以使用上述接口实现和 Pytorch 优化器相同的参数更新逻辑："
   ]
  },
  {
   "cell_type": "code",
   "execution_count": 18,
   "metadata": {},
   "outputs": [],
   "source": [
    "for idx, (input, target) in enumerate(zip(inputs, targets)):\n",
    "    optimizer.zero_grad()\n",
    "    with optim_wrapper.optim_context(model):\n",
    "        output = model(input.cuda())\n",
    "    loss = F.l1_loss(output, target.cuda())\n",
    "    optim_wapper.backward(loss)\n",
    "    if idx % 2 == 0:\n",
    "        optim_wapper.step()\n",
    "        optim_wapper.zero_grad()"
   ]
  },
  {
   "cell_type": "markdown",
   "metadata": {},
   "source": [
    "### 获取学习率/动量：\n",
    "\n",
    "优化器封装提供了 `get_lr` 和 `get_momentum` 接口用于获取优化器的一个参数组的学习率\n",
    "\n"
   ]
  },
  {
   "cell_type": "code",
   "execution_count": 21,
   "metadata": {},
   "outputs": [
    {
     "name": "stdout",
     "output_type": "stream",
     "text": [
      "0.01\n",
      "0\n",
      "{'lr': [0.01]}\n",
      "{'momentum': [0]}\n"
     ]
    }
   ],
   "source": [
    "import torch.nn as nn\n",
    "from torch.optim import SGD\n",
    "\n",
    "from mmengine.optim import OptimWrapper\n",
    "\n",
    "model = nn.Linear(1, 1)\n",
    "optimizer = SGD(model.parameters(), lr=0.01)\n",
    "optim_wrapper = OptimWrapper(optimizer)\n",
    "\n",
    "print(optimizer.param_groups[0]['lr'])  # -1.01\n",
    "print(optimizer.param_groups[0]['momentum'])  # 0\n",
    "print(optim_wrapper.get_lr())  # {'lr': [0.01]}\n",
    "print(optim_wrapper.get_momentum())  # {'momentum': [0]}"
   ]
  },
  {
   "cell_type": "markdown",
   "metadata": {},
   "source": [
    "### 导出/加载状态字典\n",
    "\n",
    "优化器封装和优化器一样，提供了 `state_dict` 和 `load_state_dict` 接口，用于导出/加载优化器状态，对于 `AmpOptimWrapper`，优化器封装还会额外导出混合精度训练相关的参数：\n"
   ]
  },
  {
   "cell_type": "code",
   "execution_count": 22,
   "metadata": {},
   "outputs": [
    {
     "name": "stdout",
     "output_type": "stream",
     "text": [
      "{'state': {}, 'param_groups': [{'lr': 0.01, 'momentum': 0, 'dampening': 0, 'weight_decay': 0, 'nesterov': False, 'maximize': False, 'foreach': None, 'params': [0, 1]}]}\n",
      "{'state': {}, 'param_groups': [{'lr': 0.01, 'momentum': 0, 'dampening': 0, 'weight_decay': 0, 'nesterov': False, 'maximize': False, 'foreach': None, 'params': [0, 1]}], 'loss_scaler': {'scale': 65536.0, 'growth_factor': 2.0, 'backoff_factor': 0.5, 'growth_interval': 2000, '_growth_tracker': 0}}\n"
     ]
    }
   ],
   "source": [
    "import torch.nn as nn\n",
    "from torch.optim import SGD\n",
    "from mmengine.optim import OptimWrapper, AmpOptimWrapper\n",
    "\n",
    "model = nn.Linear(1, 1)\n",
    "optimizer = SGD(model.parameters(), lr=0.01)\n",
    "\n",
    "optim_wapper = OptimWrapper(optimizer=optimizer)\n",
    "amp_optim_wapper = AmpOptimWrapper(optimizer=optimizer)\n",
    "\n",
    "# 导出状态字典\n",
    "optim_state_dict = optim_wapper.state_dict()\n",
    "amp_optim_state_dict = amp_optim_wapper.state_dict()\n",
    "\n",
    "print(optim_state_dict)\n",
    "print(amp_optim_state_dict)\n",
    "optim_wapper_new = OptimWrapper(optimizer=optimizer)\n",
    "amp_optim_wapper_new = AmpOptimWrapper(optimizer=optimizer)\n",
    "\n",
    "# 加载状态字典\n",
    "amp_optim_wapper_new.load_state_dict(amp_optim_state_dict)\n",
    "optim_wapper_new.load_state_dict(optim_state_dict)"
   ]
  },
  {
   "cell_type": "markdown",
   "metadata": {},
   "source": [
    "### 使用多个优化器\n",
    "\n",
    "考虑到生成对抗网络之类的算法通常需要使用多个优化器来训练生成器和判别器，因此优化器封装提供了优化器封装的容器类：`OptimWrapperDict` 来管理多个优化器封装。`OptimWrapperDict` 以字典的形式存储优化器封装，并允许用户像字典一样访问、遍历其中的元素，即优化器封装实例。\n",
    "\n",
    "与普通的优化器封装不同，`OptimWrapperDict` 没有实现 `update_params`、 `optim_context`, `backward`、`step` 等方法，无法被直接用于训练模型。我们建议直接访问 `OptimWrapperDict` 管理的优化器实例，来实现参数更新逻辑。\n",
    "\n",
    "你或许会好奇，既然 `OptimWrapperDict` 没有训练的功能，那为什么不直接使用 `dict` 来管理多个优化器。事实上，`OptimWrapperDict` 的核心功能是支持批量导出/加载所有优化器封装的状态字典；支持获取多个优化器封装的学习率、动量。如果没有 `OptimWrapperDict`，`MMEngine` 就需要在很多位置对优化器封装的类型做 `if else` 判断，以获取所有优化器封装的状态。\n"
   ]
  },
  {
   "cell_type": "code",
   "execution_count": 23,
   "metadata": {},
   "outputs": [
    {
     "name": "stdout",
     "output_type": "stream",
     "text": [
      "{'gen.lr': [0.01], 'disc.lr': [0.01]}\n",
      "{'gen.momentum': [0], 'disc.momentum': [0]}\n"
     ]
    }
   ],
   "source": [
    "from torch.optim import SGD\n",
    "import torch.nn as nn\n",
    "\n",
    "from mmengine.optim import OptimWrapper, OptimWrapperDict\n",
    "\n",
    "gen = nn.Linear(1, 1)\n",
    "disc = nn.Linear(1, 1)\n",
    "optimizer_gen = SGD(gen.parameters(), lr=0.01)\n",
    "optimizer_disc = SGD(disc.parameters(), lr=0.01)\n",
    "\n",
    "optim_wapper_gen = OptimWrapper(optimizer=optimizer_gen)\n",
    "optim_wapper_disc = OptimWrapper(optimizer=optimizer_disc)\n",
    "optim_dict = OptimWrapperDict(gen=optim_wapper_gen, disc=optim_wapper_disc)\n",
    "\n",
    "print(optim_dict.get_lr())  # {'gen.lr': [0.01], 'disc.lr': [0.01]}\n",
    "print(optim_dict.get_momentum())  # {'gen.momentum': [0], 'disc.momentum': [0]}"
   ]
  },
  {
   "cell_type": "markdown",
   "metadata": {},
   "source": [
    "\n",
    "如上例所示，`OptimWrapperDict` 可以非常方便的导出所有优化器封装的学习率和动量，同样的，优化器封装也能够导出/加载所有优化器封装的状态字典。\n",
    "\n",
    "## 在[执行器](https://mmengine.readthedocs.io/zh_CN/latest/tutorials/runner.html)中配置优化器封装\n",
    "\n",
    "### 简单配置\n",
    "\n",
    "优化器封装需要接受 `optimizer` 参数，因此我们首先需要为优化器封装配置 `optimizer`。\n",
    "MMEngine 会自动将 PyTorch 中的所有优化器都添加进 `OPTIMIZERS` 注册表中，用户可以用字典的形式来指定优化器，所有支持的优化器见 [PyTorch 优化器列表](https://pytorch.org/docs/stable/optim.html#algorithms)。\n",
    "\n",
    "以配置一个 SGD 优化器封装为例：\n",
    "\n",
    "```python\n",
    "optimizer = dict(type='SGD', lr=0.01, momentum=0.9, weight_decay=0.0001)\n",
    "optim_wrapper = dict(type='OptimWrapper', optimizer=optimizer)\n",
    "```\n",
    "\n",
    "这样我们就配置好了一个优化器类型为 SGD 的优化器封装，学习率、动量等参数如配置所示。考虑到 `OptimWrapper` 为标准的单精度训练，因此我们也可以不配置 `type` 字段：\n",
    "\n",
    "```python\n",
    "optimizer = dict(type='SGD', lr=0.01, momentum=0.9, weight_decay=0.0001)\n",
    "optim_wrapper = dict(optimizer=optimizer)\n",
    "```\n",
    "\n",
    "要想开启混合精度训练和梯度累加，需要将 `type` 切换成 `AmpOptimWrapper`，并指定 `accumulative_counts` 参数\n",
    "\n",
    "```python\n",
    "optimizer = dict(type='SGD', lr=0.01, momentum=0.9, weight_decay=0.0001)\n",
    "optim_wrapper = dict(type='AmpOptimWrapper', optimizer=optimizer, accumulative_counts=2)\n",
    "```"
   ]
  },
  {
   "cell_type": "markdown",
   "metadata": {},
   "source": [
    "\n",
    "### 进阶配置\n",
    "\n",
    "PyTorch 的优化器支持对模型中的不同参数设置不同的超参数，例如对一个分类模型的骨干（backbone）和分类头（head）设置不同的学习率："
   ]
  },
  {
   "cell_type": "code",
   "execution_count": 24,
   "metadata": {},
   "outputs": [
    {
     "data": {
      "text/plain": [
       "SGD (\n",
       "Parameter Group 0\n",
       "    dampening: 0\n",
       "    foreach: None\n",
       "    lr: 0.01\n",
       "    maximize: False\n",
       "    momentum: 0.9\n",
       "    nesterov: False\n",
       "    weight_decay: 0\n",
       "\n",
       "Parameter Group 1\n",
       "    dampening: 0\n",
       "    foreach: None\n",
       "    lr: 0.001\n",
       "    maximize: False\n",
       "    momentum: 0.9\n",
       "    nesterov: False\n",
       "    weight_decay: 0\n",
       ")"
      ]
     },
     "execution_count": 24,
     "metadata": {},
     "output_type": "execute_result"
    }
   ],
   "source": [
    "from torch.optim import SGD\n",
    "import torch.nn as nn\n",
    "\n",
    "model = nn.ModuleDict(dict(backbone=nn.Linear(1, 1), head=nn.Linear(1, 1)))\n",
    "SGD([{'params': model.backbone.parameters()},\n",
    "     {'params': model.head.parameters(), 'lr': 1e-3}],\n",
    "    lr=0.01,\n",
    "    momentum=0.9)"
   ]
  },
  {
   "cell_type": "markdown",
   "metadata": {},
   "source": [
    "\n",
    "\n",
    "上面的例子中，模型的骨干部分使用了 0.01 学习率，而模型的头部则使用了 1e-3 学习率。\n",
    "用户可以将模型的不同部分参数和对应的超参组成一个字典的列表传给优化器，来实现对模型优化的细粒度调整。\n",
    "\n",
    "在 MMEngine 中，我们通过优化器封装构造器（optimizer wrapper constructor），让用户能够直接通过设置优化器封装配置文件中的 `paramwise_cfg` 字段而非修改代码来实现对模型的不同部分设置不同的超参。\n",
    "\n",
    "#### 为不同类型的参数设置不同的超参系数\n",
    "\n",
    "MMEngine 提供的默认优化器封装构造器支持对模型中不同类型的参数设置不同的超参系数。\n",
    "例如，我们可以在 `paramwise_cfg` 中设置 `norm_decay_mult=0` ，从而将正则化层（normalization layer）的权重（weight）和偏置（bias）的权值衰减系数（weight decay）设置为 0，\n",
    "来实现 [Bag of Tricks](https://arxiv.org/abs/1812.01187) 论文中提到的不对正则化层进行权值衰减的技巧。\n",
    "\n",
    "示例：\n"
   ]
  },
  {
   "cell_type": "code",
   "execution_count": 27,
   "metadata": {},
   "outputs": [
    {
     "name": "stdout",
     "output_type": "stream",
     "text": [
      "08/19 22:10:49 - mmengine - \u001b[4m\u001b[37mINFO\u001b[0m - paramwise_options -- weight:weight_decay=0.0001\n",
      "08/19 22:10:49 - mmengine - \u001b[4m\u001b[37mINFO\u001b[0m - paramwise_options -- bias:lr=0.01\n",
      "08/19 22:10:49 - mmengine - \u001b[4m\u001b[37mINFO\u001b[0m - paramwise_options -- bias:weight_decay=0.0001\n"
     ]
    },
    {
     "data": {
      "text/plain": [
       "Type: OptimWrapper\n",
       "_accumulative_counts: 1\n",
       "optimizer: \n",
       "SGD (\n",
       "Parameter Group 0\n",
       "    dampening: 0\n",
       "    foreach: None\n",
       "    lr: 0.01\n",
       "    maximize: False\n",
       "    momentum: 0\n",
       "    nesterov: False\n",
       "    weight_decay: 0.0001\n",
       "\n",
       "Parameter Group 1\n",
       "    dampening: 0\n",
       "    foreach: None\n",
       "    lr: 0.01\n",
       "    maximize: False\n",
       "    momentum: 0\n",
       "    nesterov: False\n",
       "    weight_decay: 0.0001\n",
       ")"
      ]
     },
     "execution_count": 27,
     "metadata": {},
     "output_type": "execute_result"
    }
   ],
   "source": [
    "from mmengine.optim import build_optim_wrapper\n",
    "\n",
    "model = nn.Conv2d(1, 1, 1)\n",
    "optim_wrapper = dict(\n",
    "    optimizer=dict(type='SGD', lr=0.01, weight_decay=0.0001),\n",
    "    paramwise_cfg=dict(norm_decay_mult=0))\n",
    "build_optim_wrapper(model, optim_wrapper)"
   ]
  },
  {
   "cell_type": "markdown",
   "metadata": {},
   "source": [
    "\n",
    "\n",
    "除了可以对偏置的权重衰减进行配置外，MMEngine 的默认优化器构造器的 `paramwise_cfg` 还支持对更多不同类型的参数设置超参系数，支持的配置如下：\n",
    "\n",
    "`bias_lr_mult`：偏置的学习率系数（不包括正则化层的偏置以及可变形卷积的 offset），默认值为 1\n",
    "\n",
    "`bias_decay_mult`：偏置的权值衰减系数（不包括正则化层的偏置以及可变形卷积的 offset），默认值为 1\n",
    "\n",
    "`norm_decay_mult`：正则化层权重和偏置的权值衰减系数，默认值为 1\n",
    "\n",
    "`dwconv_decay_mult`：Depth-wise 卷积的权值衰减系数，默认值为 1\n",
    "\n",
    "`bypass_duplicate`：是否跳过重复的参数，默认为 `False`\n",
    "\n",
    "`dcn_offset_lr_mult`：可变形卷积（Deformable Convolution）的学习率系数，默认值为 1\n",
    "\n",
    "#### 为模型不同部分的参数设置不同的超参系数\n",
    "\n",
    "此外，与上文 PyTorch 的示例一样，在 MMEngine 中我们也同样可以对模型中的任意模块设置不同的超参，只需要在 `paramwise_cfg` 中设置 `custom_keys` 即可：\n"
   ]
  },
  {
   "cell_type": "code",
   "execution_count": 28,
   "metadata": {},
   "outputs": [
    {
     "name": "stdout",
     "output_type": "stream",
     "text": [
      "08/19 22:11:41 - mmengine - \u001b[4m\u001b[37mINFO\u001b[0m - paramwise_options -- weight:weight_decay=0.0001\n",
      "08/19 22:11:41 - mmengine - \u001b[4m\u001b[37mINFO\u001b[0m - paramwise_options -- bias:lr=0.01\n",
      "08/19 22:11:41 - mmengine - \u001b[4m\u001b[37mINFO\u001b[0m - paramwise_options -- bias:weight_decay=0.0001\n"
     ]
    },
    {
     "data": {
      "text/plain": [
       "Type: OptimWrapper\n",
       "_accumulative_counts: 1\n",
       "optimizer: \n",
       "SGD (\n",
       "Parameter Group 0\n",
       "    dampening: 0\n",
       "    foreach: None\n",
       "    lr: 0.01\n",
       "    maximize: False\n",
       "    momentum: 0\n",
       "    nesterov: False\n",
       "    weight_decay: 0.0001\n",
       "\n",
       "Parameter Group 1\n",
       "    dampening: 0\n",
       "    foreach: None\n",
       "    lr: 0.01\n",
       "    maximize: False\n",
       "    momentum: 0\n",
       "    nesterov: False\n",
       "    weight_decay: 0.0001\n",
       ")"
      ]
     },
     "execution_count": 28,
     "metadata": {},
     "output_type": "execute_result"
    }
   ],
   "source": [
    "optimizer = dict(\n",
    "    optimizer=dict(type='SGD', lr=0.01, weight_decay=0.0001),\n",
    "    paramwise_cfg=dict(\n",
    "        custom_keys={\n",
    "            'backbone.layer0': dict(lr_mult=0, decay_mult=0),\n",
    "            'backbone': dict(lr_mult=1),\n",
    "            'head': dict(lr_mult=0.1)\n",
    "        }))\n",
    "build_optim_wrapper(model, optim_wrapper)"
   ]
  },
  {
   "cell_type": "markdown",
   "metadata": {},
   "source": [
    "\n",
    "上面的配置文件实现了对模型的骨干第一层的学习率和权重衰减设置为 0，骨干的其余部分部分使用 0.01 学习率，而对模型的头部则使用 1e-3 学习率。\n",
    "\n",
    "### 高级配置\n",
    "\n",
    "与 MMEngine 中的其他模块一样，优化器封装构造器也同样由 [注册表](https://mmengine.readthedocs.io/zh_CN/latest/tutorials/param_scheduler.html) 来管理。\n",
    "用户可以实现自己的优化器构造策略来实现自定义的超参设置策略，并添加进 `OPTIM_WRAPPER_CONSTRUCTORS` 注册表中。\n",
    "\n",
    "例如，我们想实现一个叫做`LayerDecayOptimWrapperConstructor`的优化器封装构造器，来实现对模型的不同深度的层自动设置递减的学习率。\n",
    "我们可以通过继承 `DefaultOptimizerConstructor` 来实现这一策略，并将其添加进注册表中：\n",
    "\n",
    "```python\n",
    "@OPTIM_WRAPPER_CONSTRUCTORS.register_module()\n",
    "class LayerDecayOptimizerConstructor(DefaultOptimizerConstructor):\n",
    "    def add_params(self, params, module, prefix='', is_dcn_module=None):\n",
    "        ...\n",
    "```\n",
    "\n",
    "然后将优化器配置文件中的 `constructor` 字段设置为类名来指定使用这个自定义的优化器构造器：\n",
    "\n",
    "```python\n",
    "optimizer = dict(\n",
    "    optimizer=dict(\n",
    "        type='SGD',\n",
    "        lr=0.01,\n",
    "        weight_decay=0.0001),\n",
    "    constructor='LayerDecayOptimizerConstructor')\n",
    "```\n",
    "\n",
    "`MMEngine` 没有实现多优化器的优化器封装构造器，因此如果要使用 `OptimWrapperDict`，也需要实现自定义的构造器\n",
    "\n",
    "```python\n",
    "@OPTIM_WRAPPER_CONSTRUCTORS.register_module()\n",
    "class MultipleOptimizerConstructor:\n",
    "    ...\n",
    "```\n",
    "\n",
    "### 在训练过程中调整超参\n",
    "\n",
    "优化器中的超参数在构造时只能设置为一个定值，仅仅使用优化器封装，并不能在训练过程中调整学习率等参数。\n",
    "在 MMEngine 中，我们实现了参数调度器（Parameter Scheduler），以便能够在训练过程中调整参数。关于参数调度器的用法请见[优化器参数调整策略](https://mmengine.readthedocs.io/zh_CN/latest/tutorials/param_scheduler.html)\n"
   ]
  }
 ],
 "metadata": {
  "kernelspec": {
   "display_name": "Python 3.8.13 ('python38pytorch112')",
   "language": "python",
   "name": "python3"
  },
  "language_info": {
   "codemirror_mode": {
    "name": "ipython",
    "version": 3
   },
   "file_extension": ".py",
   "mimetype": "text/x-python",
   "name": "python",
   "nbconvert_exporter": "python",
   "pygments_lexer": "ipython3",
   "version": "3.8.13"
  },
  "orig_nbformat": 4,
  "vscode": {
   "interpreter": {
    "hash": "7c4c9bc3b556ccd6b0acba6cd192a668ca20092699907d9f8a7c203926171f6c"
   }
  }
 },
 "nbformat": 4,
 "nbformat_minor": 2
}
