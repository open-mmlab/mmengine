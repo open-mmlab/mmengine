{
 "cells": [
  {
   "cell_type": "markdown",
   "metadata": {},
   "source": [
    "# 配置（Config）\n",
    "\n",
    "MMEngine 实现了抽象的配置类，为用户提供统一的配置访问接口。配置类能够支持不同格式的配置文件，包括 `python`，`json`，`yaml`，用户可以根据需求选择自己偏好的格式。配置类提供了类似字典或者 Python 对象属性的访问接口，用户可以十分自然地进行配置字段的读取和修改。为了方便算法框架管理配置文件，配置类也实现了一些特性，例如配置文件的字段继承等。\n",
    "\n",
    "在开始教程之前，我们先将教程中需要用到的配置文件下载到本地："
   ]
  },
  {
   "cell_type": "code",
   "execution_count": 1,
   "metadata": {},
   "outputs": [],
   "source": [
    "# !wget https://raw.githubusercontent.com/open-mmlab/mmengine/HAOCHENY/config_docs/docs/resources/config/config_sgd.py\n",
    "# !wget https://raw.githubusercontent.com/open-mmlab/mmengine/HAOCHENY/config_docs/docs/resources/config/cross_repo.py\n",
    "# !wget https://raw.githubusercontent.com/open-mmlab/mmengine/HAOCHENY/config_docs/docs/resources/config/custom_imports.py\n",
    "# !wget https://raw.githubusercontent.com/open-mmlab/mmengine/HAOCHENY/config_docs/docs/resources/config/demo_train.py\n",
    "# !wget https://raw.githubusercontent.com/open-mmlab/mmengine/HAOCHENY/config_docs/docs/resources/config/example.py\n",
    "# !wget https://raw.githubusercontent.com/open-mmlab/mmengine/HAOCHENY/config_docs/docs/resources/config/learn_read_config.py\n",
    "# !wget https://raw.githubusercontent.com/open-mmlab/mmengine/HAOCHENY/config_docs/docs/resources/config/my_module.py\n",
    "# !wget https://raw.githubusercontent.com/open-mmlab/mmengine/HAOCHENY/config_docs/docs/resources/config/optimizer_cfg.py\n",
    "# !wget https://raw.githubusercontent.com/open-mmlab/mmengine/HAOCHENY/config_docs/docs/resources/config/predefined_var.py\n",
    "# !wget https://raw.githubusercontent.com/open-mmlab/mmengine/HAOCHENY/config_docs/docs/resources/config/refer_base_var.py\n",
    "# !wget https://raw.githubusercontent.com/open-mmlab/mmengine/HAOCHENY/config_docs/docs/resources/config/resnet50_delete_key.py\n",
    "# !wget https://raw.githubusercontent.com/open-mmlab/mmengine/HAOCHENY/config_docs/docs/resources/config/resnet50_lr0.01.py\n",
    "# !wget https://raw.githubusercontent.com/open-mmlab/mmengine/HAOCHENY/config_docs/docs/resources/config/resnet50_runtime.py\n",
    "# !wget https://raw.githubusercontent.com/open-mmlab/mmengine/HAOCHENY/config_docs/docs/resources/config/resnet50.py\n",
    "# !wget https://raw.githubusercontent.com/open-mmlab/mmengine/HAOCHENY/config_docs/docs/resources/config/runtime_cfg.py"
   ]
  },
  {
   "cell_type": "markdown",
   "metadata": {},
   "source": [
    "## 配置文件读取\n",
    "\n",
    "配置类提供了统一的接口 `Config.fromfile()`，来读取和解析配置文件。\n",
    "\n",
    "合法的配置文件应该定义一系列键值对，这里举几个不同格式配置文件的例子。\n",
    "\n",
    "Python 格式：\n",
    "\n",
    "```Python\n",
    "test_int = 1\n",
    "test_list = [1, 2, 3]\n",
    "test_dict = dict(key1='value1', key2=0.1)\n",
    "```\n",
    "\n",
    "Json 格式：\n",
    "\n",
    "```json\n",
    "{\n",
    "  \"test_int\": 1,\n",
    "  \"test_list\": [1, 2, 3],\n",
    "  \"test_dict\": {\"key1\": \"value1\", \"key2\": 0.1}\n",
    "}\n",
    "```\n",
    "\n",
    "YAML 格式：\n",
    "\n",
    "```yaml\n",
    "test_int: 1\n",
    "test_list: [1, 2, 3]\n",
    "test_dict:\n",
    "  key1: \"value1\"\n",
    "  key2: 0.1\n",
    "```\n",
    "\n",
    "对于以上三种格式的文件，假设文件名分别为 `config.py`，`config.json`，`config.yml`，则我们调用 `Config.fromfile('config.xxx')` 接口都会得到相同的结果，构造了包含 3 个字段的配置对象。我们以 `config.py` 为例，我们先将示例配置文件下载到本地："
   ]
  },
  {
   "cell_type": "markdown",
   "metadata": {},
   "source": [
    "然后通过配置类的 `fromfile` 接口读取配置文件："
   ]
  },
  {
   "cell_type": "code",
   "execution_count": 2,
   "metadata": {},
   "outputs": [
    {
     "name": "stderr",
     "output_type": "stream",
     "text": [
      "/home/PJLAB/yehaochen/miniconda3/envs/python38pytorch112/lib/python3.8/site-packages/tqdm/auto.py:22: TqdmWarning: IProgress not found. Please update jupyter and ipywidgets. See https://ipywidgets.readthedocs.io/en/stable/user_install.html\n",
      "  from .autonotebook import tqdm as notebook_tqdm\n"
     ]
    },
    {
     "name": "stdout",
     "output_type": "stream",
     "text": [
      "Config (path: learn_read_config.py): {'test_int': 1, 'test_list': [1, 2, 3], 'test_dict': {'key1': 'value1', 'key2': 0.1}}\n"
     ]
    }
   ],
   "source": [
    "from mmengine import Config\n",
    "\n",
    "cfg = Config.fromfile('learn_read_config.py')\n",
    "print(cfg)"
   ]
  },
  {
   "cell_type": "markdown",
   "metadata": {},
   "source": [
    "## 配置文件的使用\n",
    "\n",
    "通过读取配置文件来初始化配置对象后，就可以像使用普通字典或者 Python 类一样来使用这个变量了。\n",
    "我们提供了两种访问接口，即类似字典的接口 `cfg['key']` 或者类似 Python 对象属性的接口 `cfg.key`。这两种接口都支持读写。"
   ]
  },
  {
   "cell_type": "code",
   "execution_count": 3,
   "metadata": {},
   "outputs": [
    {
     "name": "stdout",
     "output_type": "stream",
     "text": [
      "1\n",
      "[1, 2, 3]\n",
      "{'key1': 'value1', 'key2': 0.1}\n",
      "2\n",
      "[1, 2, 3]\n",
      "{'key1': 'value1', 'key2': 0.1}\n",
      "[1, 3, 3]\n"
     ]
    }
   ],
   "source": [
    "print(cfg.test_int)  # 1\n",
    "print(cfg.test_list)  # [1, 2, 3]\n",
    "print(cfg.test_dict)  # ConfigDict(key1='value1', key2=0.1)\n",
    "cfg.test_int = 2  # 这里发生了配置字段修改，test_int 字段的值变成了 2\n",
    "\n",
    "print(cfg['test_int'])  # 2\n",
    "print(cfg['test_list'])  # [1, 2, 3]\n",
    "print(cfg['test_dict'])  # ConfigDict(key1='value1', key2=0.1)\n",
    "cfg['test_list'][1] = 3  # 这里发生了字段修改，test_list 字段的值变成了 [1, 3, 3]\n",
    "print(cfg['test_list'])"
   ]
  },
  {
   "cell_type": "markdown",
   "metadata": {},
   "source": [
    "注意，配置文件中定义的嵌套字段（即类似字典的字段），在 Config 中会将其转化为 ConfigDict 类，该类具有和 Python 内置字典类型相同的接口，可以直接当做普通字典使用。\n",
    "\n",
    "在算法库中，可以将配置与注册器结合起来使用，达到通过配置文件来控制模块构造的目的。这里举一个在配置文件中定义优化器的例子。\n",
    "\n",
    "假设我们已经定义了一个优化器的注册器 OPTIMIZERS，包括了各种优化器。那么首先写一个 `config_sgd.py`："
   ]
  },
  {
   "cell_type": "code",
   "execution_count": 4,
   "metadata": {},
   "outputs": [],
   "source": [
    "optimizer = dict(type='SGD', lr=0.1, momentum=0.9, weight_decay=0.0001)"
   ]
  },
  {
   "cell_type": "markdown",
   "metadata": {},
   "source": [
    "然后在算法库中可以通过如下代码构造优化器对象。"
   ]
  },
  {
   "cell_type": "code",
   "execution_count": 5,
   "metadata": {},
   "outputs": [
    {
     "name": "stdout",
     "output_type": "stream",
     "text": [
      "SGD (\n",
      "Parameter Group 0\n",
      "    dampening: 0\n",
      "    foreach: None\n",
      "    lr: 0.1\n",
      "    maximize: False\n",
      "    momentum: 0.9\n",
      "    nesterov: False\n",
      "    weight_decay: 0.0001\n",
      ")\n"
     ]
    }
   ],
   "source": [
    "from mmengine import Config\n",
    "from mmengine.registry import OPTIMIZERS\n",
    "\n",
    "import torch.nn as nn\n",
    "\n",
    "cfg = Config.fromfile('config_sgd.py')\n",
    "\n",
    "model = nn.Conv2d(1, 1, 1)\n",
    "cfg.optimizer.params = model.parameters()\n",
    "optimizer = OPTIMIZERS.build(cfg.optimizer)\n",
    "print(optimizer)"
   ]
  },
  {
   "cell_type": "markdown",
   "metadata": {},
   "source": [
    "## 配置文件的继承\n",
    "\n",
    "有时候，两个不同的配置文件之间的差异很小，可能仅仅只改了一个字段，我们就需要将所有内容复制粘贴一次，而且在后续观察的时候，不容易定位到具体差异的字段。又有些情况下，多个配置文件可能都有相同的一批字段，我们不得不在这些配置文件中进行复制粘贴，给后续的修改和维护带来了不便。\n",
    "\n",
    "为了解决这些问题，我们给配置文件增加了继承的机制，即一个配置文件 A 可以将另一个配置文件 B 作为自己的基础，直接继承了 B 中所有字段，而不必显式复制粘贴。\n",
    "\n",
    "### 继承机制概述\n",
    "\n",
    "这里我们举一个例子来说明继承机制。定义如下两个配置文件，\n",
    "\n",
    "`optimizer_cfg.py`：\n",
    "\n",
    "```python\n",
    "optimizer = dict(type='SGD', lr=0.02, momentum=0.9, weight_decay=0.0001)\n",
    "```\n",
    "\n",
    "`resnet50.py`：\n",
    "\n",
    "```python\n",
    "_base_ = ['optimizer_cfg.py']\n",
    "model = dict(type='ResNet', depth=50)\n",
    "```\n",
    "\n",
    "虽然我们在 `resnet50.py` 中没有定义 optimizer 字段，但由于我们写了 `_base_ = ['optimizer_cfg.py']`，会使这个配置文件获得 `optimizer_cfg.py` 中的所有字段。"
   ]
  },
  {
   "cell_type": "code",
   "execution_count": 6,
   "metadata": {},
   "outputs": [
    {
     "name": "stdout",
     "output_type": "stream",
     "text": [
      "{'type': 'SGD', 'lr': 0.02, 'momentum': 0.9, 'weight_decay': 0.0001}\n"
     ]
    }
   ],
   "source": [
    "cfg = Config.fromfile('resnet50.py')\n",
    "cfg.optimizer\n",
    "print(cfg.optimizer)"
   ]
  },
  {
   "cell_type": "markdown",
   "metadata": {},
   "source": [
    "这里 `_base_` 是配置文件的保留字段，指定了该配置文件的继承来源。支持继承多个文件，将同时获得这多个文件中的所有字段，但是要求继承的多个文件中**没有**相同名称的字段，否则会报错。\n",
    "\n",
    "`runtime_cfg.py`：\n",
    "\n",
    "```python\n",
    "gpu_ids = [0, 1]\n",
    "```\n",
    "\n",
    "`resnet50_runtime.py`：\n",
    "\n",
    "```python\n",
    "_base_ = ['optimizer_cfg.py', 'runtime_cfg.py']\n",
    "model = dict(type='ResNet', depth=50)\n",
    "```"
   ]
  },
  {
   "cell_type": "markdown",
   "metadata": {},
   "source": [
    "这时，读取配置文件 `resnet50_runtime.py` 会获得 3 个字段 `model`，`optimizer`，`gpu_ids`。"
   ]
  },
  {
   "cell_type": "code",
   "execution_count": 7,
   "metadata": {},
   "outputs": [
    {
     "data": {
      "text/plain": [
       "{'type': 'SGD', 'lr': 0.02, 'momentum': 0.9, 'weight_decay': 0.0001}"
      ]
     },
     "execution_count": 7,
     "metadata": {},
     "output_type": "execute_result"
    }
   ],
   "source": [
    "cfg = Config.fromfile('resnet50_runtime.py')\n",
    "cfg.optimizer"
   ]
  },
  {
   "cell_type": "markdown",
   "metadata": {},
   "source": [
    "通过这种方式，我们可以将配置文件进行拆分，定义一些通用配置文件，在实际配置文件中继承各种通用配置文件，可以减少具体任务的配置流程。"
   ]
  },
  {
   "cell_type": "markdown",
   "metadata": {},
   "source": [
    "\n",
    "### 修改继承字段\n",
    "\n",
    "有时候，我们继承一个配置文件之后，可能需要对其中个别字段进行修改，例如继承了 `optimizer_cfg.py` 之后，想将学习率从 0.02 修改为 0.01。\n",
    "\n",
    "这时候，只需要在新的配置文件中，重新定义一下需要修改的字段即可。注意由于 optimizer 这个字段是一个字典，我们只需要重新定义这个字典里面需修改的下级字段即可。这个规则也适用于增加一些下级字段。\n",
    "\n",
    "`resnet50_lr0.01.py`：\n",
    "\n",
    "```python\n",
    "_base_ = ['optimizer_cfg.py', 'runtime_cfg.py']\n",
    "model = dict(type='ResNet', depth=50)\n",
    "optimizer = dict(lr=0.01)\n",
    "```\n",
    "\n",
    "读取这个配置文件之后，就可以得到期望的结果。"
   ]
  },
  {
   "cell_type": "code",
   "execution_count": 8,
   "metadata": {},
   "outputs": [
    {
     "name": "stdout",
     "output_type": "stream",
     "text": [
      "{'type': 'SGD', 'lr': 0.01, 'momentum': 0.9, 'weight_decay': 0.0001}\n"
     ]
    }
   ],
   "source": [
    "cfg = Config.fromfile('resnet50_lr0.01.py')\n",
    "print(cfg.optimizer)"
   ]
  },
  {
   "cell_type": "markdown",
   "metadata": {},
   "source": [
    "对于非字典类型的字段，例如整数，字符串，列表等，重新定义即可完全覆盖，例如下面的写法就将 `gpu_ids` 这个字段的值修改成了 `[0]`。\n",
    "\n",
    "```python\n",
    "_base_ = ['optimizer_cfg.py', 'runtime_cfg.py']\n",
    "model = dict(type='ResNet', depth=50)\n",
    "gpu_ids = [0]\n",
    "```"
   ]
  },
  {
   "cell_type": "markdown",
   "metadata": {},
   "source": [
    "### 删除字典中的 key\n",
    "\n",
    "有时候我们对于继承过来的字典类型字段，不仅仅是想修改其中某些 key，可能还需要删除其中的一些 key。这时候在重新定义这个字典时，需要指定 `_delete_=True`，表示将没有在新定义的字典中出现的 key 全部删除。\n",
    "\n",
    "`resnet50_delete_key.py`：\n",
    "\n",
    "```python\n",
    "_base_ = ['optimizer_cfg.py', 'runtime_cfg.py']\n",
    "model = dict(type='ResNet', depth=50)\n",
    "optimizer = dict(_delete_=True, type='SGD', lr=0.01)\n",
    "```\n",
    "\n",
    "这时候，`optimizer` 这个字典中就只有 `type` 和 `lr` 这两个 key，`momentum` 和 `weight_decay` 将不再被继承。"
   ]
  },
  {
   "cell_type": "code",
   "execution_count": 9,
   "metadata": {},
   "outputs": [
    {
     "name": "stdout",
     "output_type": "stream",
     "text": [
      "{'type': 'SGD', 'lr': 0.01}\n"
     ]
    }
   ],
   "source": [
    "cfg = Config.fromfile('resnet50_delete_key.py')\n",
    "print(cfg.optimizer)"
   ]
  },
  {
   "cell_type": "markdown",
   "metadata": {},
   "source": [
    "### 引用被继承文件中的变量\n",
    "\n",
    "有时我们想重复利用 `_base_` 中定义的字段内容，就可以通过 `{{_base_.xxxx}}` 获取来获取对应变量的拷贝。例如：\n",
    "\n",
    "`refer_base_var.py`\n",
    "\n",
    "```python\n",
    "_base_ = ['resnet50.py']\n",
    "a = {{_base_.model}}\n",
    "```"
   ]
  },
  {
   "cell_type": "markdown",
   "metadata": {},
   "source": [
    "解析后发现，`a` 的值变成了 `resnet50.py` 中定义的 `model`"
   ]
  },
  {
   "cell_type": "code",
   "execution_count": 10,
   "metadata": {},
   "outputs": [
    {
     "name": "stdout",
     "output_type": "stream",
     "text": [
      "{'type': 'ResNet', 'depth': 50}\n"
     ]
    }
   ],
   "source": [
    "cfg = Config.fromfile('refer_base_var.py')\n",
    "print(cfg.a)"
   ]
  },
  {
   "cell_type": "markdown",
   "metadata": {},
   "source": [
    "## 配置文件的导出\n",
    "\n",
    "在启动训练脚本时，用户可能通过传参的方式来修改配置文件的部分字段，为此我们提供了 `dump`\n",
    "接口来导出更改后的配置文件。与读取配置文件类似，用户可以通过 `cfg.dump('config.xxx')` 来选择导出文件的格式。`dump`\n",
    "同样可以导出有继承关系的配置文件，导出的文件可以被独立使用，不再依赖于 `_base_` 中定义的文件。\n",
    "\n",
    "基于继承一节定义的 `resnet50.py`,我们将其加载后导出:"
   ]
  },
  {
   "cell_type": "code",
   "execution_count": 11,
   "metadata": {},
   "outputs": [],
   "source": [
    "cfg = Config.fromfile('resnet50.py')\n",
    "cfg.dump('resnet50_dump.py')"
   ]
  },
  {
   "cell_type": "markdown",
   "metadata": {},
   "source": [
    "`resnet50_dump.py`\n",
    "\n",
    "```python\n",
    "optimizer = dict(type='SGD', lr=0.02, momentum=0.9, weight_decay=0.0001)\n",
    "model = dict(type='ResNet', depth=50)\n",
    "```\n",
    "\n",
    "类似的，我们可以导出 json、yaml 格式的配置文件\n",
    "\n",
    "`resnet50_dump.yaml`\n",
    "\n",
    "```yaml\n",
    "gpu_ids:\n",
    "- 0\n",
    "- 1\n",
    "model:\n",
    "  depth: 50\n",
    "  type: ResNet\n",
    "optimizer:\n",
    "  lr: 0.02\n",
    "  momentum: 0.9\n",
    "  type: SGD\n",
    "  weight_decay: 0.0001\n",
    "```\n",
    "\n",
    "`resnet50_dump.json`\n",
    "\n",
    "```json\n",
    "{\"optimizer\": {\"type\": \"SGD\", \"lr\": 0.02, \"momentum\": 0.9, \"weight_decay\": 0.0001}, \"gpu_ids\": [0, 1], \"model\": {\"type\": \"ResNet\", \"depth\": 50}}\n",
    "```\n",
    "\n",
    "此外，`dump` 不仅能导出加载自文件的 `cfg`，还能导出加载自字典的 `cfg`\n"
   ]
  },
  {
   "cell_type": "code",
   "execution_count": 12,
   "metadata": {},
   "outputs": [],
   "source": [
    "cfg = Config(dict(a=1, b=2))\n",
    "cfg.dump('dump_dict.py')"
   ]
  },
  {
   "cell_type": "markdown",
   "metadata": {},
   "source": [
    "`dump_dict.py`\n",
    "\n",
    "```python\n",
    "a=1\n",
    "b=2\n",
    "```"
   ]
  },
  {
   "cell_type": "markdown",
   "metadata": {},
   "source": [
    "## 其他进阶用法\n",
    "\n",
    "这里介绍一下配置类的进阶用法，这些小技巧可能使用户开发和使用算法库更简单方便。\n",
    "\n",
    "### 预定义字段\n",
    "\n",
    "有时候我们希望配置文件中的一些字段和当前路径或者文件名等相关，这里举一个典型使用场景的例子。在训练模型时，我们会在配置文件中定义一个工作目录，存放这组实验配置的模型和日志，那么对于不同的配置文件，我们期望定义不同的工作目录。用户的一种常见选择是，直接使用配置文件名作为工作目录名的一部分，例如对于配置文件 `config_setting1.py`，工作目录就是 `./work_dir/config_setting1`。\n",
    "\n",
    "使用预定义字段可以方便地实现这种需求，在配置文件 `config_setting1.py` 中可以这样写：\n",
    "\n",
    "```Python\n",
    "work_dir = './work_dir/{{ fileBasenameNoExtension }}'\n",
    "```\n",
    "\n",
    "这里 `{{ fileBasenameNoExtension }}` 表示该配置文件的文件名（不含拓展名），在配置类读取配置文件的时候，会将这种用双花括号包起来的字符串自动解析为对应的实际值。"
   ]
  },
  {
   "cell_type": "code",
   "execution_count": 13,
   "metadata": {},
   "outputs": [
    {
     "name": "stdout",
     "output_type": "stream",
     "text": [
      "./work_dir/predefined_var\n"
     ]
    }
   ],
   "source": [
    "cfg = Config.fromfile('./predefined_var.py')\n",
    "print(cfg.work_dir)"
   ]
  },
  {
   "cell_type": "markdown",
   "metadata": {},
   "source": [
    "目前支持的预定义字段有以下四种，变量名参考自 [VS Code](https://code.visualstudio.com/docs/editor/variables-reference) 中的相关字段：\n",
    "\n",
    "- `{{ fileDirname }}` - 当前文件的目录名，例如 `/home/your-username/your-project/folder`\n",
    "- `{{ fileBasename }}` - 当前文件的文件名，例如 `file.py`\n",
    "- `{{ fileBasenameNoExtension }}` - 当前文件不包含扩展名的文件名，例如 file\n",
    "- `{{ fileExtname }}` - 当前文件的扩展名，例如 `.py`"
   ]
  },
  {
   "cell_type": "markdown",
   "metadata": {},
   "source": [
    "### 命令行修改配置\n",
    "\n",
    "有时候我们只希望修部分配置，而不想修改配置文件本身，例如实验过程中想更换学习率，但是又不想重新写一个配置文件，常用的做法是在命令行传入参数来覆盖相关配置。考虑到我们想修改的配置通常是一些内层参数，如优化器的学习率、模型卷积层的通道数等，因此 MMEngine 提供了一套标准的流程，让我们能够在命令行里轻松修改配置文件中任意层级的参数。\n",
    "\n",
    "1. 使用 `argparser` 解析脚本运行的参数\n",
    "2. 使用 `argparse.ArgumentParser.add_argument` 方法时，让 `action` 参数的值为 [DictAction](https://mmengine.readthedocs.io/zh/latest/api.html#mmengine.config.DictAction)，用它来进一步解析命令行参数中用于修改配置文件的参数\n",
    "3. 使用配置类的 `merge_from_dict` 方法来更新配置\n",
    "\n",
    "启动脚本示例如下：\n",
    "\n",
    "`demo_train.py`\n",
    "\n",
    "```python\n",
    "import argparse\n",
    "\n",
    "from mmengine.config import Config, DictAction\n",
    "\n",
    "\n",
    "def parse_args():\n",
    "    parser = argparse.ArgumentParser(description='Train a model')\n",
    "    parser.add_argument('config', help='train config file path')\n",
    "    parser.add_argument(\n",
    "        '--cfg-options',\n",
    "        nargs='+',\n",
    "        action=DictAction,\n",
    "        help='override some settings in the used config, the key-value pair '\n",
    "        'in xxx=yyy format will be merged into config file. If the value to '\n",
    "        'be overwritten is a list, it should be like key=\"[a,b]\" or key=a,b '\n",
    "        'It also allows nested list/tuple values, e.g. key=\"[(a,b),(c,d)]\" '\n",
    "        'Note that the quotation marks are necessary and that no white space '\n",
    "        'is allowed.')\n",
    "\n",
    "    args = parser.parse_args()\n",
    "    return args\n",
    "\n",
    "\n",
    "def main():\n",
    "    args = parse_args()\n",
    "    cfg = Config.fromfile(args.config)\n",
    "    if args.cfg_options is not None:\n",
    "        cfg.merge_from_dict(args.cfg_options)\n",
    "    print(cfg)\n",
    "\n",
    "\n",
    "if __name__ == '__main__':\n",
    "    main()\n",
    "\n",
    "```\n",
    "\n",
    "示例配置文件如下：\n",
    "\n",
    "`example.py`\n",
    "\n",
    "```python\n",
    "model = dict(type='CustomModel', in_channels=[1, 2, 3])\n",
    "optimizer = dict(type='SGD', lr=0.01)\n",
    "```\n",
    "\n",
    "我们在命令行里通过 `.` 的方式来访问配置文件中的深层配置，例如我们想修改学习率，只需要在命令行执行："
   ]
  },
  {
   "cell_type": "code",
   "execution_count": 14,
   "metadata": {},
   "outputs": [
    {
     "name": "stdout",
     "output_type": "stream",
     "text": [
      "Config (path: ./example.py): {'model': {'type': 'CustomModel', 'in_channels': [1, 2, 3]}, 'optimizer': {'type': 'SGD', 'lr': 0.1}}\n"
     ]
    }
   ],
   "source": [
    "!python demo_train.py ./example.py --cfg-options optimizer.lr=0.1"
   ]
  },
  {
   "cell_type": "markdown",
   "metadata": {},
   "source": [
    "此时终端上会显示：\n",
    "\n",
    "```python\n",
    "Config (path: ./example.py): {'model': {'type': 'CustomModel', 'in_channels': [1, 2, 3]}, 'optimizer': {'type': 'SGD', 'lr': 0.1}}\n",
    "```\n",
    "\n",
    "我们成功地把学习率从 0.01 修改成 0.1。如果想改变列表、元组类型的配置，如上例中的 `in_channels`，则需要在命令行赋值时给 `()`，`[]` 外加上双引号："
   ]
  },
  {
   "cell_type": "code",
   "execution_count": 15,
   "metadata": {},
   "outputs": [
    {
     "name": "stdout",
     "output_type": "stream",
     "text": [
      "Config (path: ./example.py): {'model': {'type': 'CustomModel', 'in_channels': [0, 0, 0]}, 'optimizer': {'type': 'SGD', 'lr': 0.01}}\n"
     ]
    }
   ],
   "source": [
    "!python demo_train.py ./example.py --cfg-options model.in_channels=\"[0, 0, 0]\""
   ]
  },
  {
   "cell_type": "markdown",
   "metadata": {},
   "source": [
    "此时终端上会显示：\n",
    "\n",
    "```python\n",
    "Config (path: ./example.py): {'model': {'type': 'CustomModel', 'in_channels': [1, 1, 1]}, 'optimizer': {'type': 'SGD', 'lr': 0.01}}\n",
    "```"
   ]
  },
  {
   "cell_type": "markdown",
   "metadata": {},
   "source": [
    "`model.in_channels` 已经从 \\[1, 2, 3\\] 修改成 \\[1, 1, 1\\]。\n",
    "\n",
    "```{note}\n",
    "上述流程只支持在命令行里修改字符串、整型、浮点型、布尔型、None、列表、元组类型的配置项。对于列表、元组类型的配置，里面每个元素的类型也必须为上述七种类型之一。\n",
    "```"
   ]
  },
  {
   "cell_type": "markdown",
   "metadata": {},
   "source": [
    "### 导入自定义 Python 模块\n",
    "\n",
    "将配置与注册器结合起来使用时，如果我们往注册器中注册了一些自定义的类，就可能会遇到一些问题。因为读取配置文件的时候，这部分代码可能还没有被执行到，所以并未完成注册过程，从而导致构建自定义类的时候报错。\n",
    "\n",
    "例如我们新实现了一种优化器 `SuperOptim`，相应代码在 `my_module.py` 中。\n",
    "\n",
    "```python\n",
    "from mmengine.registry import OPTIMIZERS\n",
    "\n",
    "@OPTIMIZERS.register_module()\n",
    "class SuperOptim:\n",
    "    pass\n",
    "```\n",
    "\n",
    "我们为这个优化器的使用写了一个新的配置文件 `custom_imports.py`：\n",
    "\n",
    "```python\n",
    "optimizer = dict(type='SuperOptim')\n",
    "```\n",
    "\n",
    "那么就需要在读取配置文件和构造优化器之前，增加一行 `import my_module` 来保证将自定义的类 `SuperOptim` 注册到 OPTIMIZERS 注册器中：\n",
    "为了解决这个问题，我们给配置文件定义了一个保留字段 `custom_imports`，用于将需要提前导入的 Python 模块，直接写在配置文件中。对于上述例子，就可以将配置文件写成如下：\n",
    "\n",
    "`custom_imports.py`\n",
    "\n",
    "```python\n",
    "custom_imports = dict(imports=['my_module'], allow_failed_imports=False)\n",
    "optimizer = dict(type='SuperOptim')\n",
    "```\n",
    "\n",
    "这样我们就不用在训练代码中增加对应的 import 语句，只需要修改配置文件就可以实现非侵入式导入自定义注册模块。"
   ]
  },
  {
   "cell_type": "code",
   "execution_count": 16,
   "metadata": {},
   "outputs": [
    {
     "name": "stdout",
     "output_type": "stream",
     "text": [
      "<my_module.SuperOptim object at 0x7f462ebbcee0>\n"
     ]
    }
   ],
   "source": [
    "cfg = Config.fromfile('custom_imports.py')\n",
    "\n",
    "from mmengine.registry import OPTIMIZERS\n",
    "\n",
    "super_optim = OPTIMIZERS.build(cfg.optimizer)\n",
    "print(super_optim)"
   ]
  },
  {
   "cell_type": "markdown",
   "metadata": {},
   "source": [
    "### 跨项目继承配置文件\n",
    "\n",
    "为了避免基于已有算法库开发新项目时需要复制大量的配置文件，MMEngine 的配置类支持配置文件的跨项目继承。例如我们基于 MMDetection\n",
    "开发新的算法库，需要使用以下 MMDetection 的配置文件：\n",
    "\n",
    "```text\n",
    "configs/_base_/schedules/schedule_1x.py\n",
    "configs/_base_/datasets.coco_instance.py\n",
    "configs/_base_/default_runtime.py\n",
    "configs/_base_/models/faster_rcnn_r50_fpn.py\n",
    "```\n",
    "\n",
    "如果没有配置文件跨项目继承的功能，我们就需要把 MMDetection 的配置文件拷贝到当前项目，而我们现在只需要安装 MMDetection\n",
    "（如使用 `mim install mmdet`），在新项目的配置文件中按照以下方式继承 MMDetection 的配置文件：\n",
    "\n",
    "`cross_repo.py`\n",
    "\n",
    "```python\n",
    "_base_ = [\n",
    "    'mmdet::_base_/schedules/schedule_1x.py',\n",
    "    'mmdet::_base_/datasets/coco_instance.py',\n",
    "    'mmdet::_base_/default_runtime.py',\n",
    "    'mmdet::_base_/models/faster_rcnn_r50_fpn.py',\n",
    "]\n",
    "```\n",
    "\n",
    "我们可以像加载普通配置文件一样加载 `cross_repo.py`\n"
   ]
  },
  {
   "cell_type": "code",
   "execution_count": 17,
   "metadata": {},
   "outputs": [
    {
     "name": "stdout",
     "output_type": "stream",
     "text": [
      "{'type': 'EpochBasedTrainLoop', 'max_epochs': 12, 'val_interval': 1, '_scope_': 'mmdet'}\n"
     ]
    }
   ],
   "source": [
    "cfg = Config.fromfile('cross_repo.py')\n",
    "print(cfg.train_cfg)"
   ]
  },
  {
   "cell_type": "markdown",
   "metadata": {},
   "source": [
    "\n",
    "通过指定 `mmdet::` ，Config 类会去检索 mmdet 包中的配置文件目录，并继承指定的配置文件。\n",
    "实际上，只要算法库的 `setup.py` 文件符合 [MMEngine 安装规范](todo)，在正确安装算法库以后，新的项目就可以使用上述用法去继承已有算法库的配置文件而无需拷贝。"
   ]
  },
  {
   "cell_type": "markdown",
   "metadata": {},
   "source": [
    "### 跨项目获取配置文件\n",
    "\n",
    "MMEngine 还提供了 `get_config` 和 `get_model` 两个接口，支持对符合 [MMEngine 安装规范](todo) 的算法库中的模型和配置文件做索引并进行 API 调用。通过 `get_model` 接口可以获得构建好的模型。通过 `get_config` 接口可以获得配置文件。\n",
    "\n",
    "`get_model` 的使用样例如下所示，使用和跨项目继承配置文件相同的语法，指定 `mmdet::`，即可在 mmdet 包中检索对应的配置文件并构建和初始化相应模型。\n",
    "用户可以通过指定 `pretrained=True` 获得已经加载预训练权重的模型以进行训练或者推理。"
   ]
  },
  {
   "cell_type": "code",
   "execution_count": 18,
   "metadata": {},
   "outputs": [
    {
     "name": "stdout",
     "output_type": "stream",
     "text": [
      "http loads checkpoint from path: https://download.openmmlab.com/mmdetection/v2.0/faster_rcnn/faster_rcnn_r50_fpn_1x_coco/faster_rcnn_r50_fpn_1x_coco_20200130-047c8118.pth\n",
      "<class 'mmdet.models.detectors.faster_rcnn.FasterRCNN'>\n"
     ]
    }
   ],
   "source": [
    "from mmengine import get_model\n",
    "\n",
    "model = get_model(\n",
    "    'mmdet::faster_rcnn/faster_rcnn_r50_fpn_1x_coco.py', pretrained=True)\n",
    "print(type(model))"
   ]
  },
  {
   "cell_type": "markdown",
   "metadata": {},
   "source": [
    "`get_config` 的使用样例如下所示，使用和跨项目继承配置文件相同的语法，指定 `mmdet::`，即可实现去 mmdet 包中检索并加载对应的配置文件。\n",
    "用户可以基于这样得到的配置文件进行推理修改并自定义自己的算法模型。\n",
    "同时，如果用户指定 `pretrained=True` ，得到的配置文件中会新增 `model_path` 字段，指定了对应模型预训练权重的路径。"
   ]
  },
  {
   "cell_type": "code",
   "execution_count": 19,
   "metadata": {},
   "outputs": [
    {
     "name": "stdout",
     "output_type": "stream",
     "text": [
      "https://download.openmmlab.com/mmdetection/v2.0/faster_rcnn/faster_rcnn_r50_fpn_1x_coco/faster_rcnn_r50_fpn_1x_coco_20200130-047c8118.pth\n"
     ]
    }
   ],
   "source": [
    "from mmengine import get_config\n",
    "\n",
    "cfg = get_config(\n",
    "    'mmdet::faster_rcnn/faster_rcnn_r50_fpn_1x_coco.py', pretrained=True)\n",
    "print(cfg.model_path)\n"
   ]
  },
  {
   "cell_type": "markdown",
   "metadata": {},
   "source": [
    "### 指定注册器作用域\n",
    "\n",
    "#### 通过前缀指定作用域\n",
    "\n",
    "在注册器的教程中我们了解到，我们可以通过给 `build` 支持构建兄弟节点的模块，因此我们也可以在配置文件中指定 `scope` 前缀，实现跨注册器节点的实例构建。\n",
    "我们通过一个例子，来更好的理解跨注册器节点构建实例的过程："
   ]
  },
  {
   "cell_type": "code",
   "execution_count": 20,
   "metadata": {},
   "outputs": [
    {
     "name": "stdout",
     "output_type": "stream",
     "text": [
      "custom_model has an empty setting: {}\n",
      "mmdet resnet setting:{18: (<class 'mmdet.models.backbones.resnet.BasicBlock'>, (2, 2, 2, 2)), 34: (<class 'mmdet.models.backbones.resnet.BasicBlock'>, (3, 4, 6, 3)), 50: (<class 'mmdet.models.backbones.resnet.Bottleneck'>, (3, 4, 6, 3)), 101: (<class 'mmdet.models.backbones.resnet.Bottleneck'>, (3, 4, 23, 3)), 152: (<class 'mmdet.models.backbones.resnet.Bottleneck'>, (3, 8, 36, 3))}\n"
     ]
    }
   ],
   "source": [
    "import torch.nn as nn\n",
    "\n",
    "from mmengine.config import Config\n",
    "from mmengine.registry import MODELS, Registry, DefaultScope\n",
    "\n",
    "import mmdet.models  # 注册 mmdet 的模块\n",
    "\n",
    "import time\n",
    "\n",
    "# 作用域时间戳保证这段代码能够在 Jupyter NoteBook 里重复运行.\n",
    "current_scope = f'custom_{time.time()}'\n",
    "DefaultScope.get_instance(name=current_scope, scope_name=current_scope)\n",
    "CUSTOM_MODELS = Registry('custom_models', parent=MODELS, scope=current_scope)\n",
    "\n",
    "\n",
    "# 自定义 ResNet\n",
    "@CUSTOM_MODELS.register_module()\n",
    "class ResNet(nn.Module):\n",
    "    arch_settings = dict()\n",
    "\n",
    "\n",
    "class CustomModel(nn.Module):\n",
    "    def __init__(self, model_cfg1, model_cfg2):\n",
    "        super().__init__()\n",
    "        self.backbone1 = CUSTOM_MODELS.build(model_cfg1)\n",
    "        self.backbone2 = CUSTOM_MODELS.build(model_cfg2)\n",
    "\n",
    "\n",
    "if __name__ == '__main__':\n",
    "    model1 = dict(type='ResNet')\n",
    "    model2 = dict(type='mmdet.ResNet', depth=50)\n",
    "    custom_model = CustomModel(model1, model2)\n",
    "    print(f'custom_model has an empty setting: {custom_model.backbone1.arch_settings}')\n",
    "    print(f'mmdet resnet setting:{custom_model.backbone2.arch_settings}')"
   ]
  },
  {
   "cell_type": "markdown",
   "metadata": {},
   "source": [
    "在上例中，我们定义了 `CUSTOM_MODELS` 注册器，他继承自 `MMEngine` 的 `MODELS` 根注册器，是 `mmdet` `MODELS` 注册器的兄弟节点。\n",
    "- 由于 `cfg.model1` 中没有指定作用域，因此直接使用 `CUSTOM_MODELS` 注册器节点构建实例，`custom_model.backbone1` 的类型为自定义的 `ResNet`。\n",
    "- 由于 `cfg.model2` 中指定了 `mmdet` 作用域，实际上会切换到 `mmdet` 兄弟节点构建实例。因此 `custom_model.backbone2` 的类型为 `mmdet` 中定义的 `ResNet`。"
   ]
  },
  {
   "cell_type": "markdown",
   "metadata": {},
   "source": [
    "\n",
    "#### 通过 `_scope_` 指定作用域\n",
    "\n",
    "上一节我们通过指定 `mmdet` 作用域前缀，成功使用自定义的注册器节点 `CUSTOM_MODELS` 实例化了 `mmdet` 里定义的 `ResNet`。但是有时候光指定作用域前缀，是无法构建出相应实例的，我们来看下面这个例子："
   ]
  },
  {
   "cell_type": "code",
   "execution_count": 21,
   "metadata": {},
   "outputs": [
    {
     "name": "stdout",
     "output_type": "stream",
     "text": [
      "\"class `FasterRCNN` in mmdet/models/detectors/faster_rcnn.py: 'DetDataPreprocessor is not in the custom_models registry. Please check whether the value of `DetDataPreprocessor` is correct or it was registered as expected. More details can be found at https://mmengine.readthedocs.io/en/latest/tutorials/config.html#import-custom-python-modules'\"\n"
     ]
    }
   ],
   "source": [
    "from mmengine import get_config\n",
    "import mmdet.models\n",
    "\n",
    "cfg = get_config('mmdet::faster_rcnn/faster_rcnn_r50_fpn_1x_coco.py')\n",
    "cfg.model.type = f'mmdet.{cfg.model.type}'\n",
    "try:\n",
    "    CUSTOM_MODELS.build(cfg.model)\n",
    "except Exception as e:\n",
    "    print(e)"
   ]
  },
  {
   "cell_type": "markdown",
   "metadata": {},
   "source": [
    "运行后提示报错：`DetDataPreprocessor is not in the model registry`。尽管你指定了 `model` 的作用域，但是它内部组件的默认作用域仍然为 `custom`，因此会优先从 `custom` 注册器节点去构建实例，进而抛出了无法在注册器找到 `DetDataPreprocessor` 的错误。\n",
    "你或许会觉得既然都已经指定了 `model.type` 的作用域，再指定一下 `data_preprocessor` 的作用域也无妨，就行这样："
   ]
  },
  {
   "cell_type": "code",
   "execution_count": 22,
   "metadata": {},
   "outputs": [
    {
     "name": "stdout",
     "output_type": "stream",
     "text": [
      "class `FasterRCNN` in mmdet/models/detectors/faster_rcnn.py: class `ResNet` in __main__.py: __init__() got an unexpected keyword argument 'depth'\n"
     ]
    }
   ],
   "source": [
    "cfg = get_config('mmdet::faster_rcnn/faster_rcnn_r50_fpn_1x_coco.py')\n",
    "cfg.model.type = f'mmdet.{cfg.model.type}'\n",
    "cfg.model.data_preprocessor.type = f'mmdet.{cfg.model.data_preprocessor.type}'\n",
    "try:\n",
    "    CUSTOM_MODELS.build(cfg.model)\n",
    "except Exception as e:\n",
    "    print(e)"
   ]
  },
  {
   "cell_type": "markdown",
   "metadata": {},
   "source": [
    "然而我们依然无法成功实例化模型。`FasterRCNN` 有非常多的组件需要由 `mmdet` 注册器节点实例化，尽管我们指定了 `data_preprocessor` 的作用域，`backbone` 的作用域仍然为 `custom`，因此依然会报错。如果想用作用域前缀的方式来解决这个问题，我们就需要指定非常多模块的作用域，这显然并不是一个优雅的方案。因此 MMEngine 的配置类提供了另一种切换作用域的方案，我们可以在字典内配置 `_scope_='mmdet'`，**该字典内**的其他配置在构建时候，默认作用域会切换到 `mmdet`。**该字典外**的其余配置默认作用域仍然为 `mmdet`。"
   ]
  },
  {
   "cell_type": "code",
   "execution_count": 23,
   "metadata": {},
   "outputs": [
    {
     "name": "stdout",
     "output_type": "stream",
     "text": [
      "DetDataPreprocessor()\n"
     ]
    }
   ],
   "source": [
    "cfg = get_config('mmdet::faster_rcnn/faster_rcnn_r50_fpn_1x_coco.py')\n",
    "cfg.model._scope_ = 'mmdet'\n",
    "faster_rcnn = CUSTOM_MODELS.build(cfg.model)\n",
    "print(faster_rcnn.data_preprocessor)"
   ]
  },
  {
   "cell_type": "markdown",
   "metadata": {},
   "source": [
    "这样构建 `model` 时，默认作用域为 `mmdet`，会优先从 `mmdet` 的注册器节点构建实例。我们再来看一个例子，来理解定义 `_scope_` 字典的外出配置，默认作用域不变的概念： "
   ]
  },
  {
   "cell_type": "code",
   "execution_count": 24,
   "metadata": {},
   "outputs": [
    {
     "name": "stdout",
     "output_type": "stream",
     "text": [
      "<class '__main__.Tractor'>\n"
     ]
    }
   ],
   "source": [
    "@CUSTOM_MODELS.register_module()\n",
    "class Tractor:\n",
    "    def __init__(self, detector):\n",
    "        self.detector = CUSTOM_MODELS.build(detector)\n",
    "\n",
    "\n",
    "detector_cfg = get_config('mmdet::faster_rcnn/faster_rcnn_r50_fpn_1x_coco.py')\n",
    "detector_cfg.model._scope_ = 'mmdet'\n",
    "cfg = dict(type='Tractor', detector=detector_cfg.model)\n",
    "model = CUSTOM_MODELS.build(cfg)\n",
    "print(type(model))"
   ]
  },
  {
   "cell_type": "markdown",
   "metadata": {},
   "source": [
    "不难发现，在构建 `Tractor` 时，我们优先从 `CUSTOM_MODELS` 里构建实例；构建 `detector` 时，则优先从 `mmdet` 的注册器节点构建实例，因此 `_scope_` 的作用域为 `model` 内部，外部的作用域仍然为 `custom`。"
   ]
  }
 ],
 "metadata": {
  "kernelspec": {
   "display_name": "Python 3.8.13 ('python38pytorch112')",
   "language": "python",
   "name": "python3"
  },
  "language_info": {
   "codemirror_mode": {
    "name": "ipython",
    "version": 3
   },
   "file_extension": ".py",
   "mimetype": "text/x-python",
   "name": "python",
   "nbconvert_exporter": "python",
   "pygments_lexer": "ipython3",
   "version": "3.8.13"
  },
  "orig_nbformat": 4,
  "vscode": {
   "interpreter": {
    "hash": "7c4c9bc3b556ccd6b0acba6cd192a668ca20092699907d9f8a7c203926171f6c"
   }
  }
 },
 "nbformat": 4,
 "nbformat_minor": 2
}
